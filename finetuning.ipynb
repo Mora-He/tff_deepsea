{
 "cells": [
  {
   "cell_type": "code",
   "execution_count": 1,
   "id": "312e718b-e378-45bd-8e32-4fce0e08b160",
   "metadata": {},
   "outputs": [],
   "source": [
    "# -*- coding: utf-8 -*-\n",
    "import os\n",
    "# access single GPU\n",
    "\n",
    "os.environ['CUDA_VISIBLE_DEVICES'] = '3'\n",
    "\n",
    "# -*- coding: utf-8 -*-\n",
    "import argparse\n",
    "import numpy as np\n",
    "import tensorflow as tf\n",
    "\n",
    "from tensorflow import keras\n",
    "from tqdm import tqdm\n",
    "\n",
    "from model import DeepSEA\n",
    "from model_dnase import DeepSEA_DNase\n",
    "from model_TFbinding import DeepSEA_tfbinding\n",
    "from model_histone import DeepSEA_histone\n",
    "\n",
    "# load data for different tasks\n",
    "from loader_task import get_train_data_by_filename_for_task\n",
    "from loader_task import parse_function_for_DNase, get_valid_data_dnase, get_test_data_dnase\n",
    "from loader_task import parse_function_for_TFbinding, get_valid_data_tfbinding, get_test_data_tfbinding\n",
    "from loader_task import parse_function_for_Histone, get_valid_data_histone, get_test_data_histone\n",
    "\n",
    "\n",
    "from utils_task import plot_loss_curve\n",
    "# from utils import calculate_auroc, calculate_aupr\n",
    "from utils_task import create_dirs, write2txt, write2csv\n",
    "\n",
    "np.random.seed(0)\n",
    "tf.random.set_seed(0)\n",
    "# gpus = tf.config.experimental.list_physical_devices('GPU')\n",
    "# tf.config.experimental.set_memory_growth(gpus[0], True)\n",
    "\n",
    "BATCH_SIZE = 64\n",
    "\n",
    "# 各个任务的数据分布\n",
    "# dnase:(593355+564772)*2 = 2,316,254\n",
    "# tf : (812544 + 803137)*2 = 3,231,362\n",
    "# histone:(846613+812153)*2 = 3,317,532\n",
    "CNT_dnase = 2316254\n",
    "CNT_tf = 3231362\n",
    "CNT_histone =3317532\n",
    "# ==============for test=========================\n",
    "# CNT_dnase = 640\n",
    "# CNT_tf = 640\n",
    "# CNT_histone =640"
   ]
  },
  {
   "cell_type": "code",
   "execution_count": null,
   "id": "f26a0b1a-5b80-4786-a1f9-6937f365862b",
   "metadata": {
    "tags": []
   },
   "outputs": [],
   "source": [
    "model = DeepSEA_DNase()\n",
    "model.compile(\n",
    "    optimizer=tf.keras.optimizers.SGD(momentum=0.9),\n",
    "    loss=tf.keras.losses.BinaryCrossentropy())\n",
    "model.build(input_shape = (None, 1000, 4))\n",
    "# model.summary()\n",
    "w_list = model.weights\n",
    "for item in w_list[3:]:\n",
    "    # print(item.shape,\"\\n\")\n",
    "    print(item)"
   ]
  },
  {
   "cell_type": "code",
   "execution_count": 11,
   "id": "2b5a4821-2128-466e-9a54-222f69772b72",
   "metadata": {
    "collapsed": true,
    "jupyter": {
     "outputs_hidden": true,
     "source_hidden": true
    },
    "tags": []
   },
   "outputs": [
    {
     "name": "stdout",
     "output_type": "stream",
     "text": [
      "<tf.Variable 'dense_18/kernel:0' shape=(60480, 925) dtype=float32, numpy=\n",
      "array([[ 1.6669261e-04,  3.4226195e-04, -1.2038135e-03, ...,\n",
      "        -4.1389564e-04, -3.2631558e-04, -2.6844826e-04],\n",
      "       [-9.5165789e-04,  9.4926305e-04, -7.9509441e-04, ...,\n",
      "         3.8577241e-04, -9.8061406e-05, -8.7444595e-04],\n",
      "       [ 1.7004727e-03,  2.3848959e-03,  1.8219907e-03, ...,\n",
      "        -7.7386969e-04, -5.2650721e-04, -1.3127030e-04],\n",
      "       ...,\n",
      "       [-9.4160216e-04, -6.3028646e-04,  1.3665763e-03, ...,\n",
      "         8.5710519e-04,  2.1178035e-04,  8.5230084e-04],\n",
      "       [-7.0928154e-04,  1.3798130e-03, -5.6391937e-04, ...,\n",
      "         8.0815097e-04,  3.9827084e-04,  6.0749593e-05],\n",
      "       [ 1.0080455e-03, -9.2893175e-04, -2.3530284e-03, ...,\n",
      "        -9.9747362e-05,  1.9027258e-03, -2.1610555e-04]], dtype=float32)> \n",
      "\n",
      "<tf.Variable 'dense_19/kernel:0' shape=(925, 919) dtype=float32, numpy=\n",
      "array([[ 0.01593606, -0.01147352, -0.00023191, ..., -0.01163928,\n",
      "         0.00205687,  0.00867934],\n",
      "       [-0.01557328,  0.00633649, -0.02250586, ..., -0.04336388,\n",
      "        -0.05638758,  0.00463073],\n",
      "       [ 0.02374752,  0.07608236,  0.01780939, ..., -0.06920408,\n",
      "         0.00437802,  0.03949808],\n",
      "       ...,\n",
      "       [ 0.00697232,  0.00241743,  0.00688521, ..., -0.00702843,\n",
      "        -0.01495401,  0.00800429],\n",
      "       [ 0.00621675,  0.0358019 , -0.00148403, ...,  0.01071644,\n",
      "         0.00535962,  0.0010164 ],\n",
      "       [-0.015771  , -0.00791392, -0.02254008, ...,  0.01501354,\n",
      "        -0.0238904 , -0.00118288]], dtype=float32)> \n",
      "\n"
     ]
    }
   ],
   "source": [
    "model_pretrain = DeepSEA()\n",
    "model_pretrain.compile(\n",
    "    optimizer=tf.keras.optimizers.SGD(momentum=0.9),\n",
    "    loss=tf.keras.losses.BinaryCrossentropy())\n",
    "model_pretrain.build(input_shape = (None, 1000, 4))\n",
    "# model_pretrain.summary()\n",
    "model_pretrain.load_weights('./tff_result_510_ckpt/tff_alldata_255.h5')\n",
    "w_p_list = model_pretrain.weights\n",
    "for item in w_p_list[3:]:\n",
    "    # print(item.shape,\"\\n\")\n",
    "    print(item,\"\\n\")"
   ]
  },
  {
   "cell_type": "code",
   "execution_count": 30,
   "id": "0a9ac82c-b781-471b-b6bb-ab216725a3b9",
   "metadata": {},
   "outputs": [],
   "source": [
    "# model.get_layer(index=10) # 最后一层dense\n",
    "# deepsea 一共11个layers, index：[0,10]"
   ]
  },
  {
   "cell_type": "code",
   "execution_count": 28,
   "id": "4b8674c9-094f-4087-b606-6d73ac1041ec",
   "metadata": {
    "tags": []
   },
   "outputs": [],
   "source": [
    "# for index in range(10):\n",
    "#     weight = model.get_layer(index=index).get_weights\n",
    "#     print(pre_weight,\"\\n\")"
   ]
  },
  {
   "cell_type": "code",
   "execution_count": 27,
   "id": "82f0d3b5-f178-4bf2-957c-01038e088143",
   "metadata": {
    "jupyter": {
     "source_hidden": true
    },
    "tags": []
   },
   "outputs": [],
   "source": [
    "for index in range(10):\n",
    "    pre_weight = model_pretrain.get_layer(index=index).get_weights()\n",
    "    layer = model.get_layer(index=index)\n",
    "    layer.set_weights(pre_weight)\n",
    "    # print(pre_weight,\"\\n\")"
   ]
  },
  {
   "cell_type": "code",
   "execution_count": 29,
   "id": "a6f193d2-1e4b-4e0e-b20c-3170fcbbf01e",
   "metadata": {
    "collapsed": true,
    "jupyter": {
     "outputs_hidden": true,
     "source_hidden": true
    },
    "tags": []
   },
   "outputs": [
    {
     "name": "stdout",
     "output_type": "stream",
     "text": [
      "<tf.Variable 'dense_16/kernel:0' shape=(60480, 925) dtype=float32, numpy=\n",
      "array([[ 1.6669261e-04,  3.4226195e-04, -1.2038135e-03, ...,\n",
      "        -4.1389564e-04, -3.2631558e-04, -2.6844826e-04],\n",
      "       [-9.5165789e-04,  9.4926305e-04, -7.9509441e-04, ...,\n",
      "         3.8577241e-04, -9.8061406e-05, -8.7444595e-04],\n",
      "       [ 1.7004727e-03,  2.3848959e-03,  1.8219907e-03, ...,\n",
      "        -7.7386969e-04, -5.2650721e-04, -1.3127030e-04],\n",
      "       ...,\n",
      "       [-9.4160216e-04, -6.3028646e-04,  1.3665763e-03, ...,\n",
      "         8.5710519e-04,  2.1178035e-04,  8.5230084e-04],\n",
      "       [-7.0928154e-04,  1.3798130e-03, -5.6391937e-04, ...,\n",
      "         8.0815097e-04,  3.9827084e-04,  6.0749593e-05],\n",
      "       [ 1.0080455e-03, -9.2893175e-04, -2.3530284e-03, ...,\n",
      "        -9.9747362e-05,  1.9027258e-03, -2.1610555e-04]], dtype=float32)>\n",
      "<tf.Variable 'dense_17/kernel:0' shape=(925, 125) dtype=float32, numpy=\n",
      "array([[ 0.00424682,  0.02217484, -0.00018594, ..., -0.04356011,\n",
      "         0.04202091, -0.02521433],\n",
      "       [ 0.05627844,  0.00923129, -0.0344692 , ...,  0.01266497,\n",
      "         0.05841944, -0.02712188],\n",
      "       [ 0.06320929,  0.04087295, -0.02556255, ..., -0.00440022,\n",
      "         0.03127275, -0.05922725],\n",
      "       ...,\n",
      "       [ 0.00020436,  0.02421495, -0.04468835, ..., -0.0531785 ,\n",
      "         0.03107735, -0.04119664],\n",
      "       [-0.07537116,  0.04643414, -0.04821762, ..., -0.06413306,\n",
      "        -0.0719877 , -0.00170241],\n",
      "       [ 0.01882605, -0.04837599, -0.0593927 , ..., -0.06755172,\n",
      "         0.05248784,  0.04002815]], dtype=float32)>\n"
     ]
    }
   ],
   "source": [
    "w_list = model.weights\n",
    "for item in w_list[3:]:\n",
    "    # print(item.shape,\"\\n\")\n",
    "    print(item)"
   ]
  },
  {
   "cell_type": "code",
   "execution_count": 2,
   "id": "17a008ff-462a-43de-a3a4-486d449aab01",
   "metadata": {},
   "outputs": [],
   "source": [
    "\n",
    "# =======dnase======================\n",
    "def train_dnase():\n",
    "    print(\"train_dnase() | gpu2| epoch 60| dense uint: 125| fine tuning retrain base on 510-ckpt-255| date 05-23 : 18:45 \\n\")\n",
    "    train_dataset = get_train_data_by_filename_for_task(BATCH_SIZE,\n",
    "                                                     ['./data_task/traindata-dnase-00.tfrecord',\n",
    "                                                      './data_task/traindata-dnase-01.tfrecord',\n",
    "                                                      './data_task/traindata-dnase-02.tfrecord',\n",
    "                                                      './data_task/traindata-dnase-03.tfrecord'],\n",
    "                                                     parse_function_for_DNase)\n",
    "    valid_data = get_valid_data_dnase()\n",
    "\n",
    "    # Build the model.\n",
    "    model = DeepSEA_DNase()\n",
    "    model.compile(\n",
    "        optimizer=tf.keras.optimizers.SGD(momentum=0.9),\n",
    "        loss=tf.keras.losses.BinaryCrossentropy())\n",
    "    model.build(input_shape = (None, 1000, 4))\n",
    "    # model.summary()\n",
    "\n",
    "#    load pre-train best global model for FL\n",
    "    model_pretrain = DeepSEA()\n",
    "    model_pretrain.compile(\n",
    "        optimizer=tf.keras.optimizers.SGD(momentum=0.9),\n",
    "        loss=tf.keras.losses.BinaryCrossentropy())\n",
    "    model_pretrain.build(input_shape = (None, 1000, 4))\n",
    "    model_pretrain.load_weights('./tff_result_510_ckpt/tff_alldata_255.h5')\n",
    "    for index in range(10):\n",
    "        pre_weight = model_pretrain.get_layer(index=index).get_weights()\n",
    "        layer = model.get_layer(index=index)\n",
    "        layer.set_weights(pre_weight)\n",
    "    \n",
    "    # Define the callbacks. (check_pointer\\early_stopper\\tensor_boarder)\n",
    "    # For check_pointer: we save the model in SavedModel format\n",
    "    # (Weights-only saving that contains model weights and optimizer status)\n",
    "    check_pointer = tf.keras.callbacks.ModelCheckpoint(\n",
    "        # filepath='./result/dnase/model/ckpt',\n",
    "        filepath='./result/dnase/model/dnase_ckpt_{epoch:02d}.hdf5',\n",
    "        verbose=1,\n",
    "        save_best_only=False,\n",
    "        save_weights_only=True,\n",
    "        save_freq='epoch',)\n",
    "        # load_weights_on_restart=False)\n",
    "    early_stopper = tf.keras.callbacks.EarlyStopping(\n",
    "        monitor='val_loss',\n",
    "        # patience=5,\n",
    "        patience=10,\n",
    "        verbose=0)\n",
    "    tensor_boarder = tf.keras.callbacks.TensorBoard(\n",
    "        log_dir='./result/dnase/logs')\n",
    "\n",
    "    # Training the model.\n",
    "    history = model.fit(\n",
    "        train_dataset,\n",
    "        epochs=60,\n",
    "        steps_per_epoch=CNT_dnase/64,\n",
    "        verbose=2,\n",
    "        validation_data = valid_data,\n",
    "        validation_steps=8000/64,\n",
    "        callbacks=[check_pointer, early_stopper, tensor_boarder])\n",
    "\n",
    "    # Plot the loss curve of training and validation, and save the loss value of training and validation.\n",
    "    print('\\n history dict: ', history.history)\n",
    "    train_loss = history.history['loss']\n",
    "    val_loss = history.history['val_loss']\n",
    "    np.savez('./result/dnase/model_loss.npz', train_loss = train_loss, val_loss = val_loss)\n",
    "    plot_loss_curve(train_loss, val_loss, './result/dnase/model_loss.jpg')\n"
   ]
  },
  {
   "cell_type": "code",
   "execution_count": null,
   "id": "8497de3e-1524-4e76-a145-8b2163fd433a",
   "metadata": {},
   "outputs": [],
   "source": []
  },
  {
   "cell_type": "code",
   "execution_count": null,
   "id": "c6a03f8d-c432-4125-9759-9263f1f77f20",
   "metadata": {},
   "outputs": [],
   "source": []
  },
  {
   "cell_type": "code",
   "execution_count": null,
   "id": "61ff14ce-10fa-4836-a256-07cc66771796",
   "metadata": {},
   "outputs": [],
   "source": [
    "# result date 523  |    stop"
   ]
  },
  {
   "cell_type": "code",
   "execution_count": 3,
   "id": "f3273377-7a56-437b-98a5-9169ce8b737c",
   "metadata": {
    "collapsed": true,
    "jupyter": {
     "outputs_hidden": true,
     "source_hidden": true
    },
    "tags": []
   },
   "outputs": [
    {
     "name": "stdout",
     "output_type": "stream",
     "text": [
      "train_dnase() | gpu2| epoch 60| dense uint: 125| fine tuning retrain base on 510-ckpt-255| date 05-23 : 18:45 \n",
      "\n",
      "Epoch 1/60\n",
      "\n",
      "Epoch 1: saving model to ./result/dnase/model/dnase_ckpt_01.hdf5\n",
      "36191/36191 - 588s - loss: 0.2171 - val_loss: 0.1245 - 588s/epoch - 16ms/step\n",
      "Epoch 2/60\n",
      "\n",
      "Epoch 2: saving model to ./result/dnase/model/dnase_ckpt_02.hdf5\n",
      "36191/36191 - 531s - loss: 0.2122 - val_loss: 0.1222 - 531s/epoch - 15ms/step\n",
      "Epoch 3/60\n",
      "\n",
      "Epoch 3: saving model to ./result/dnase/model/dnase_ckpt_03.hdf5\n",
      "36191/36191 - 610s - loss: 0.2108 - val_loss: 0.1210 - 610s/epoch - 17ms/step\n",
      "Epoch 4/60\n",
      "\n",
      "Epoch 4: saving model to ./result/dnase/model/dnase_ckpt_04.hdf5\n",
      "36191/36191 - 591s - loss: 0.2099 - val_loss: 0.1223 - 591s/epoch - 16ms/step\n",
      "Epoch 5/60\n",
      "\n",
      "Epoch 5: saving model to ./result/dnase/model/dnase_ckpt_05.hdf5\n",
      "36191/36191 - 533s - loss: 0.2091 - val_loss: 0.1264 - 533s/epoch - 15ms/step\n",
      "Epoch 6/60\n",
      "\n",
      "Epoch 6: saving model to ./result/dnase/model/dnase_ckpt_06.hdf5\n",
      "36191/36191 - 600s - loss: 0.2086 - val_loss: 0.1212 - 600s/epoch - 17ms/step\n",
      "Epoch 7/60\n",
      "\n",
      "Epoch 7: saving model to ./result/dnase/model/dnase_ckpt_07.hdf5\n",
      "36191/36191 - 601s - loss: 0.2081 - val_loss: 0.1228 - 601s/epoch - 17ms/step\n",
      "Epoch 8/60\n",
      "\n",
      "Epoch 8: saving model to ./result/dnase/model/dnase_ckpt_08.hdf5\n",
      "36191/36191 - 533s - loss: 0.2077 - val_loss: 0.1259 - 533s/epoch - 15ms/step\n",
      "Epoch 9/60\n",
      "\n",
      "Epoch 9: saving model to ./result/dnase/model/dnase_ckpt_09.hdf5\n",
      "36191/36191 - 594s - loss: 0.2072 - val_loss: 0.1246 - 594s/epoch - 16ms/step\n",
      "Epoch 10/60\n",
      "\n",
      "Epoch 10: saving model to ./result/dnase/model/dnase_ckpt_10.hdf5\n",
      "36191/36191 - 610s - loss: 0.2069 - val_loss: 0.1232 - 610s/epoch - 17ms/step\n",
      "Epoch 11/60\n",
      "\n",
      "Epoch 11: saving model to ./result/dnase/model/dnase_ckpt_11.hdf5\n",
      "36191/36191 - 534s - loss: 0.2066 - val_loss: 0.1217 - 534s/epoch - 15ms/step\n",
      "Epoch 12/60\n",
      "\n",
      "Epoch 12: saving model to ./result/dnase/model/dnase_ckpt_12.hdf5\n",
      "36191/36191 - 595s - loss: 0.2063 - val_loss: 0.1192 - 595s/epoch - 16ms/step\n",
      "Epoch 13/60\n",
      "\n",
      "Epoch 13: saving model to ./result/dnase/model/dnase_ckpt_13.hdf5\n",
      "36191/36191 - 612s - loss: 0.2061 - val_loss: 0.1262 - 612s/epoch - 17ms/step\n",
      "Epoch 14/60\n",
      "\n",
      "Epoch 14: saving model to ./result/dnase/model/dnase_ckpt_14.hdf5\n",
      "36191/36191 - 535s - loss: 0.2058 - val_loss: 0.1195 - 535s/epoch - 15ms/step\n",
      "Epoch 15/60\n",
      "\n",
      "Epoch 15: saving model to ./result/dnase/model/dnase_ckpt_15.hdf5\n",
      "36191/36191 - 598s - loss: 0.2055 - val_loss: 0.1233 - 598s/epoch - 17ms/step\n",
      "Epoch 16/60\n",
      "\n",
      "Epoch 16: saving model to ./result/dnase/model/dnase_ckpt_16.hdf5\n",
      "36191/36191 - 610s - loss: 0.2053 - val_loss: 0.1203 - 610s/epoch - 17ms/step\n",
      "Epoch 17/60\n",
      "\n",
      "Epoch 17: saving model to ./result/dnase/model/dnase_ckpt_17.hdf5\n",
      "36191/36191 - 535s - loss: 0.2051 - val_loss: 0.1209 - 535s/epoch - 15ms/step\n",
      "Epoch 18/60\n",
      "\n",
      "Epoch 18: saving model to ./result/dnase/model/dnase_ckpt_18.hdf5\n",
      "36191/36191 - 598s - loss: 0.2049 - val_loss: 0.1210 - 598s/epoch - 17ms/step\n",
      "Epoch 19/60\n",
      "\n",
      "Epoch 19: saving model to ./result/dnase/model/dnase_ckpt_19.hdf5\n",
      "36191/36191 - 604s - loss: 0.2047 - val_loss: 0.1204 - 604s/epoch - 17ms/step\n",
      "Epoch 20/60\n",
      "\n",
      "Epoch 20: saving model to ./result/dnase/model/dnase_ckpt_20.hdf5\n",
      "36191/36191 - 473s - loss: 0.2045 - val_loss: 0.1205 - 473s/epoch - 13ms/step\n",
      "Epoch 21/60\n",
      "\n",
      "Epoch 21: saving model to ./result/dnase/model/dnase_ckpt_21.hdf5\n",
      "36191/36191 - 475s - loss: 0.2044 - val_loss: 0.1246 - 475s/epoch - 13ms/step\n",
      "Epoch 22/60\n",
      "\n",
      "Epoch 22: saving model to ./result/dnase/model/dnase_ckpt_22.hdf5\n",
      "36191/36191 - 514s - loss: 0.2043 - val_loss: 0.1222 - 514s/epoch - 14ms/step\n",
      "\n",
      " history dict:  {'loss': [0.21706219017505646, 0.21219399571418762, 0.21084138751029968, 0.20987823605537415, 0.2091350555419922, 0.2086184322834015, 0.2081020027399063, 0.2076769322156906, 0.20716741681098938, 0.2069198489189148, 0.20660075545310974, 0.20627883076667786, 0.20610380172729492, 0.20581473410129547, 0.20550218224525452, 0.2053232640028, 0.2051331251859665, 0.20492474734783173, 0.20469309389591217, 0.2045409381389618, 0.20443196594715118, 0.20430022478103638], 'val_loss': [0.1244693323969841, 0.1222345232963562, 0.12100256234407425, 0.1223176121711731, 0.12643113732337952, 0.12119440734386444, 0.12279273569583893, 0.12593108415603638, 0.12462295591831207, 0.1232408806681633, 0.12168242037296295, 0.11921101063489914, 0.12620241940021515, 0.11946020275354385, 0.12329845130443573, 0.12025921046733856, 0.12090820074081421, 0.12100373208522797, 0.12040911614894867, 0.12052465975284576, 0.1245972216129303, 0.12215128540992737]}\n"
     ]
    },
    {
     "data": {
      "image/png": "[encoded data removed]",
      "text/plain": [
       "<Figure size 432x288 with 1 Axes>"
      ]
     },
     "metadata": {
      "needs_background": "light"
     },
     "output_type": "display_data"
    }
   ],
   "source": [
    "train_dnase()"
   ]
  },
  {
   "cell_type": "code",
   "execution_count": null,
   "id": "21c93261-8408-499a-8f4e-edb7dd964b2a",
   "metadata": {},
   "outputs": [],
   "source": []
  }
 ],
 "metadata": {
  "kernelspec": {
   "display_name": "Python 3 (ipykernel)",
   "language": "python",
   "name": "python3"
  },
  "language_info": {
   "codemirror_mode": {
    "name": "ipython",
    "version": 3
   },
   "file_extension": ".py",
   "mimetype": "text/x-python",
   "name": "python",
   "nbconvert_exporter": "python",
   "pygments_lexer": "ipython3",
   "version": "3.8.10"
  }
 },
 "nbformat": 4,
 "nbformat_minor": 5
}
